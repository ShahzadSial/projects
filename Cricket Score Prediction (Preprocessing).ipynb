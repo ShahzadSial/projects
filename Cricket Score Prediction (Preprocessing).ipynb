{
 "cells": [
  {
   "cell_type": "code",
   "execution_count": 1,
   "id": "8e150392",
   "metadata": {},
   "outputs": [],
   "source": [
    "import pandas as pd\n",
    "import numpy as np\n",
    "import matplotlib.pyplot as plt\n",
    "import glob"
   ]
  },
  {
   "cell_type": "code",
   "execution_count": 11,
   "id": "532dcca8",
   "metadata": {},
   "outputs": [],
   "source": [
    "list_1=[]\n",
    "for i in glob.glob('/home/muhammadshahzad/Downloads/Final_Data/*'):\n",
    "    for x in glob.glob(i+'/*'):\n",
    "        list_1.append(pd.read_excel(x))"
   ]
  },
  {
   "cell_type": "code",
   "execution_count": 12,
   "id": "00076bbd",
   "metadata": {},
   "outputs": [],
   "source": [
    "data=pd.concat(list_1)"
   ]
  },
  {
   "cell_type": "code",
   "execution_count": 6,
   "id": "da2d6e0a",
   "metadata": {},
   "outputs": [
    {
     "data": {
      "text/html": [
       "<div>\n",
       "<style scoped>\n",
       "    .dataframe tbody tr th:only-of-type {\n",
       "        vertical-align: middle;\n",
       "    }\n",
       "\n",
       "    .dataframe tbody tr th {\n",
       "        vertical-align: top;\n",
       "    }\n",
       "\n",
       "    .dataframe thead th {\n",
       "        text-align: right;\n",
       "    }\n",
       "</style>\n",
       "<table border=\"1\" class=\"dataframe\">\n",
       "  <thead>\n",
       "    <tr style=\"text-align: right;\">\n",
       "      <th></th>\n",
       "      <th>Team</th>\n",
       "      <th>Inning</th>\n",
       "      <th>Overs</th>\n",
       "      <th>Runs</th>\n",
       "      <th>Wickets</th>\n",
       "      <th>Balls_Remained</th>\n",
       "      <th>Batting_Strike_Rate</th>\n",
       "      <th>Bowling_Strike_Rate</th>\n",
       "      <th>Venue</th>\n",
       "      <th>Win_Loss</th>\n",
       "      <th>Target</th>\n",
       "    </tr>\n",
       "  </thead>\n",
       "  <tbody>\n",
       "    <tr>\n",
       "      <th>0</th>\n",
       "      <td>Australia</td>\n",
       "      <td>2</td>\n",
       "      <td>0.0</td>\n",
       "      <td>0</td>\n",
       "      <td>0</td>\n",
       "      <td>120</td>\n",
       "      <td>125.547</td>\n",
       "      <td>12.4091</td>\n",
       "      <td>Home</td>\n",
       "      <td>Win</td>\n",
       "      <td>135</td>\n",
       "    </tr>\n",
       "    <tr>\n",
       "      <th>1</th>\n",
       "      <td>Australia</td>\n",
       "      <td>2</td>\n",
       "      <td>0.1</td>\n",
       "      <td>0</td>\n",
       "      <td>0</td>\n",
       "      <td>119</td>\n",
       "      <td>125.547</td>\n",
       "      <td>12.4091</td>\n",
       "      <td>Home</td>\n",
       "      <td>Win</td>\n",
       "      <td>135</td>\n",
       "    </tr>\n",
       "    <tr>\n",
       "      <th>2</th>\n",
       "      <td>Australia</td>\n",
       "      <td>2</td>\n",
       "      <td>0.2</td>\n",
       "      <td>2</td>\n",
       "      <td>0</td>\n",
       "      <td>118</td>\n",
       "      <td>125.547</td>\n",
       "      <td>12.4091</td>\n",
       "      <td>Home</td>\n",
       "      <td>Win</td>\n",
       "      <td>133</td>\n",
       "    </tr>\n",
       "    <tr>\n",
       "      <th>3</th>\n",
       "      <td>Australia</td>\n",
       "      <td>2</td>\n",
       "      <td>0.3</td>\n",
       "      <td>0</td>\n",
       "      <td>0</td>\n",
       "      <td>117</td>\n",
       "      <td>125.547</td>\n",
       "      <td>12.4091</td>\n",
       "      <td>Home</td>\n",
       "      <td>Win</td>\n",
       "      <td>133</td>\n",
       "    </tr>\n",
       "    <tr>\n",
       "      <th>4</th>\n",
       "      <td>Australia</td>\n",
       "      <td>2</td>\n",
       "      <td>0.4</td>\n",
       "      <td>0</td>\n",
       "      <td>0</td>\n",
       "      <td>116</td>\n",
       "      <td>125.547</td>\n",
       "      <td>12.4091</td>\n",
       "      <td>Home</td>\n",
       "      <td>Win</td>\n",
       "      <td>133</td>\n",
       "    </tr>\n",
       "  </tbody>\n",
       "</table>\n",
       "</div>"
      ],
      "text/plain": [
       "        Team  Inning  Overs  Runs  Wickets  Balls_Remained  \\\n",
       "0  Australia       2    0.0     0        0             120   \n",
       "1  Australia       2    0.1     0        0             119   \n",
       "2  Australia       2    0.2     2        0             118   \n",
       "3  Australia       2    0.3     0        0             117   \n",
       "4  Australia       2    0.4     0        0             116   \n",
       "\n",
       "   Batting_Strike_Rate  Bowling_Strike_Rate Venue Win_Loss  Target  \n",
       "0              125.547              12.4091  Home      Win     135  \n",
       "1              125.547              12.4091  Home      Win     135  \n",
       "2              125.547              12.4091  Home      Win     133  \n",
       "3              125.547              12.4091  Home      Win     133  \n",
       "4              125.547              12.4091  Home      Win     133  "
      ]
     },
     "execution_count": 6,
     "metadata": {},
     "output_type": "execute_result"
    }
   ],
   "source": [
    "data.head()"
   ]
  },
  {
   "cell_type": "code",
   "execution_count": 7,
   "id": "6113c360",
   "metadata": {},
   "outputs": [
    {
     "data": {
      "text/plain": [
       "Team                   0\n",
       "Inning                 0\n",
       "Overs                  0\n",
       "Runs                   0\n",
       "Wickets                0\n",
       "Balls_Remained         0\n",
       "Batting_Strike_Rate    0\n",
       "Bowling_Strike_Rate    0\n",
       "Venue                  0\n",
       "Win_Loss               0\n",
       "Target                 0\n",
       "dtype: int64"
      ]
     },
     "execution_count": 7,
     "metadata": {},
     "output_type": "execute_result"
    }
   ],
   "source": [
    "data.isna().sum()"
   ]
  },
  {
   "cell_type": "code",
   "execution_count": 9,
   "id": "1fc08ca8",
   "metadata": {},
   "outputs": [
    {
     "data": {
      "text/plain": [
       "Team                    object\n",
       "Inning                   int64\n",
       "Overs                  float64\n",
       "Runs                     int64\n",
       "Wickets                  int64\n",
       "Balls_Remained           int64\n",
       "Batting_Strike_Rate    float64\n",
       "Bowling_Strike_Rate    float64\n",
       "Venue                   object\n",
       "Win_Loss                object\n",
       "Target                   int64\n",
       "dtype: object"
      ]
     },
     "execution_count": 9,
     "metadata": {},
     "output_type": "execute_result"
    }
   ],
   "source": [
    "data.dtypes"
   ]
  },
  {
   "cell_type": "code",
   "execution_count": 6,
   "id": "00189ae7",
   "metadata": {},
   "outputs": [],
   "source": [
    "from sklearn.preprocessing import LabelEncoder as le\n",
    "encoder=le()"
   ]
  },
  {
   "cell_type": "code",
   "execution_count": 7,
   "id": "406cf29b",
   "metadata": {},
   "outputs": [
    {
     "data": {
      "text/plain": [
       "Team                     int64\n",
       "Inning                   int64\n",
       "Overs                  float64\n",
       "Runs                     int64\n",
       "Wickets                  int64\n",
       "Balls_Remained           int64\n",
       "Batting_Strike_Rate    float64\n",
       "Bowling_Strike_Rate    float64\n",
       "Venue                    int64\n",
       "Win_Loss                 int64\n",
       "Target                   int64\n",
       "dtype: object"
      ]
     },
     "execution_count": 7,
     "metadata": {},
     "output_type": "execute_result"
    }
   ],
   "source": [
    "for i in data:\n",
    "    if data[i].dtypes=='object':\n",
    "        data[i]=encoder.fit_transform(data[i])\n",
    "data.dtypes"
   ]
  },
  {
   "cell_type": "code",
   "execution_count": 8,
   "id": "c9200046",
   "metadata": {},
   "outputs": [
    {
     "data": {
      "text/html": [
       "<div>\n",
       "<style scoped>\n",
       "    .dataframe tbody tr th:only-of-type {\n",
       "        vertical-align: middle;\n",
       "    }\n",
       "\n",
       "    .dataframe tbody tr th {\n",
       "        vertical-align: top;\n",
       "    }\n",
       "\n",
       "    .dataframe thead th {\n",
       "        text-align: right;\n",
       "    }\n",
       "</style>\n",
       "<table border=\"1\" class=\"dataframe\">\n",
       "  <thead>\n",
       "    <tr style=\"text-align: right;\">\n",
       "      <th></th>\n",
       "      <th>Team</th>\n",
       "      <th>Inning</th>\n",
       "      <th>Overs</th>\n",
       "      <th>Runs</th>\n",
       "      <th>Wickets</th>\n",
       "      <th>Balls_Remained</th>\n",
       "      <th>Batting_Strike_Rate</th>\n",
       "      <th>Bowling_Strike_Rate</th>\n",
       "      <th>Venue</th>\n",
       "      <th>Win_Loss</th>\n",
       "      <th>Target</th>\n",
       "    </tr>\n",
       "  </thead>\n",
       "  <tbody>\n",
       "    <tr>\n",
       "      <th>0</th>\n",
       "      <td>0</td>\n",
       "      <td>2</td>\n",
       "      <td>0.0</td>\n",
       "      <td>0</td>\n",
       "      <td>0</td>\n",
       "      <td>120</td>\n",
       "      <td>125.547</td>\n",
       "      <td>12.4091</td>\n",
       "      <td>1</td>\n",
       "      <td>1</td>\n",
       "      <td>135</td>\n",
       "    </tr>\n",
       "    <tr>\n",
       "      <th>1</th>\n",
       "      <td>0</td>\n",
       "      <td>2</td>\n",
       "      <td>0.1</td>\n",
       "      <td>0</td>\n",
       "      <td>0</td>\n",
       "      <td>119</td>\n",
       "      <td>125.547</td>\n",
       "      <td>12.4091</td>\n",
       "      <td>1</td>\n",
       "      <td>1</td>\n",
       "      <td>135</td>\n",
       "    </tr>\n",
       "    <tr>\n",
       "      <th>2</th>\n",
       "      <td>0</td>\n",
       "      <td>2</td>\n",
       "      <td>0.2</td>\n",
       "      <td>2</td>\n",
       "      <td>0</td>\n",
       "      <td>118</td>\n",
       "      <td>125.547</td>\n",
       "      <td>12.4091</td>\n",
       "      <td>1</td>\n",
       "      <td>1</td>\n",
       "      <td>133</td>\n",
       "    </tr>\n",
       "    <tr>\n",
       "      <th>3</th>\n",
       "      <td>0</td>\n",
       "      <td>2</td>\n",
       "      <td>0.3</td>\n",
       "      <td>0</td>\n",
       "      <td>0</td>\n",
       "      <td>117</td>\n",
       "      <td>125.547</td>\n",
       "      <td>12.4091</td>\n",
       "      <td>1</td>\n",
       "      <td>1</td>\n",
       "      <td>133</td>\n",
       "    </tr>\n",
       "    <tr>\n",
       "      <th>4</th>\n",
       "      <td>0</td>\n",
       "      <td>2</td>\n",
       "      <td>0.4</td>\n",
       "      <td>0</td>\n",
       "      <td>0</td>\n",
       "      <td>116</td>\n",
       "      <td>125.547</td>\n",
       "      <td>12.4091</td>\n",
       "      <td>1</td>\n",
       "      <td>1</td>\n",
       "      <td>133</td>\n",
       "    </tr>\n",
       "  </tbody>\n",
       "</table>\n",
       "</div>"
      ],
      "text/plain": [
       "   Team  Inning  Overs  Runs  Wickets  Balls_Remained  Batting_Strike_Rate  \\\n",
       "0     0       2    0.0     0        0             120              125.547   \n",
       "1     0       2    0.1     0        0             119              125.547   \n",
       "2     0       2    0.2     2        0             118              125.547   \n",
       "3     0       2    0.3     0        0             117              125.547   \n",
       "4     0       2    0.4     0        0             116              125.547   \n",
       "\n",
       "   Bowling_Strike_Rate  Venue  Win_Loss  Target  \n",
       "0              12.4091      1         1     135  \n",
       "1              12.4091      1         1     135  \n",
       "2              12.4091      1         1     133  \n",
       "3              12.4091      1         1     133  \n",
       "4              12.4091      1         1     133  "
      ]
     },
     "execution_count": 8,
     "metadata": {},
     "output_type": "execute_result"
    }
   ],
   "source": [
    "data.head()"
   ]
  },
  {
   "cell_type": "code",
   "execution_count": 13,
   "id": "2d8a3954",
   "metadata": {},
   "outputs": [],
   "source": [
    "data.to_csv('Raw_data.csv',index=0)"
   ]
  },
  {
   "cell_type": "code",
   "execution_count": 10,
   "id": "cf533d6e",
   "metadata": {},
   "outputs": [
    {
     "data": {
      "text/plain": [
       "1    2056\n",
       "0    1947\n",
       "2    1571\n",
       "3    1357\n",
       "Name: Team, dtype: int64"
      ]
     },
     "execution_count": 10,
     "metadata": {},
     "output_type": "execute_result"
    }
   ],
   "source": [
    "data.Team.value_counts()"
   ]
  },
  {
   "cell_type": "code",
   "execution_count": 16,
   "id": "9edb4049",
   "metadata": {},
   "outputs": [
    {
     "name": "stdout",
     "output_type": "stream",
     "text": [
      "3.9.12\n"
     ]
    }
   ],
   "source": [
    "from platform import python_version\n",
    "\n",
    "print(python_version())"
   ]
  },
  {
   "cell_type": "code",
   "execution_count": null,
   "id": "26e4ab4a",
   "metadata": {},
   "outputs": [],
   "source": []
  }
 ],
 "metadata": {
  "kernelspec": {
   "display_name": "Python 3 (ipykernel)",
   "language": "python",
   "name": "python3"
  },
  "language_info": {
   "codemirror_mode": {
    "name": "ipython",
    "version": 3
   },
   "file_extension": ".py",
   "mimetype": "text/x-python",
   "name": "python",
   "nbconvert_exporter": "python",
   "pygments_lexer": "ipython3",
   "version": "3.9.12"
  }
 },
 "nbformat": 4,
 "nbformat_minor": 5
}
