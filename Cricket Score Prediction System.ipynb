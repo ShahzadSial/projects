{
 "cells": [
  {
   "cell_type": "code",
   "execution_count": 21,
   "id": "5cc017d5",
   "metadata": {},
   "outputs": [],
   "source": [
    "import pandas as pd\n",
    "import numpy as np\n",
    "import matplotlib.pyplot as plt\n",
    "import seaborn as sns\n",
    "from sklearn.metrics import mean_squared_error as mse\n",
    "import random\n",
    "from sklearn.utils import shuffle\n",
    "import warnings\n",
    "warnings.filterwarnings('ignore')"
   ]
  },
  {
   "cell_type": "code",
   "execution_count": 22,
   "id": "0dc4906d",
   "metadata": {},
   "outputs": [
    {
     "data": {
      "text/html": [
       "<div>\n",
       "<style scoped>\n",
       "    .dataframe tbody tr th:only-of-type {\n",
       "        vertical-align: middle;\n",
       "    }\n",
       "\n",
       "    .dataframe tbody tr th {\n",
       "        vertical-align: top;\n",
       "    }\n",
       "\n",
       "    .dataframe thead th {\n",
       "        text-align: right;\n",
       "    }\n",
       "</style>\n",
       "<table border=\"1\" class=\"dataframe\">\n",
       "  <thead>\n",
       "    <tr style=\"text-align: right;\">\n",
       "      <th></th>\n",
       "      <th>Team</th>\n",
       "      <th>Inning</th>\n",
       "      <th>Overs</th>\n",
       "      <th>Runs</th>\n",
       "      <th>Wickets</th>\n",
       "      <th>Balls_Remained</th>\n",
       "      <th>Batting_Strike_Rate</th>\n",
       "      <th>Bowling_Strike_Rate</th>\n",
       "      <th>Venue</th>\n",
       "      <th>Win_Loss</th>\n",
       "      <th>Target</th>\n",
       "    </tr>\n",
       "  </thead>\n",
       "  <tbody>\n",
       "    <tr>\n",
       "      <th>0</th>\n",
       "      <td>0</td>\n",
       "      <td>1</td>\n",
       "      <td>2.5</td>\n",
       "      <td>0</td>\n",
       "      <td>2</td>\n",
       "      <td>101</td>\n",
       "      <td>1388</td>\n",
       "      <td>156</td>\n",
       "      <td>0</td>\n",
       "      <td>1</td>\n",
       "      <td>147</td>\n",
       "    </tr>\n",
       "    <tr>\n",
       "      <th>1</th>\n",
       "      <td>0</td>\n",
       "      <td>1</td>\n",
       "      <td>17.5</td>\n",
       "      <td>1</td>\n",
       "      <td>5</td>\n",
       "      <td>10</td>\n",
       "      <td>1088</td>\n",
       "      <td>134</td>\n",
       "      <td>0</td>\n",
       "      <td>0</td>\n",
       "      <td>31</td>\n",
       "    </tr>\n",
       "    <tr>\n",
       "      <th>2</th>\n",
       "      <td>1</td>\n",
       "      <td>1</td>\n",
       "      <td>7.7</td>\n",
       "      <td>1</td>\n",
       "      <td>3</td>\n",
       "      <td>70</td>\n",
       "      <td>1432</td>\n",
       "      <td>156</td>\n",
       "      <td>0</td>\n",
       "      <td>0</td>\n",
       "      <td>121</td>\n",
       "    </tr>\n",
       "    <tr>\n",
       "      <th>3</th>\n",
       "      <td>1</td>\n",
       "      <td>2</td>\n",
       "      <td>18.2</td>\n",
       "      <td>1</td>\n",
       "      <td>8</td>\n",
       "      <td>8</td>\n",
       "      <td>1295</td>\n",
       "      <td>141</td>\n",
       "      <td>0</td>\n",
       "      <td>0</td>\n",
       "      <td>24</td>\n",
       "    </tr>\n",
       "    <tr>\n",
       "      <th>4</th>\n",
       "      <td>1</td>\n",
       "      <td>2</td>\n",
       "      <td>4.6</td>\n",
       "      <td>0</td>\n",
       "      <td>4</td>\n",
       "      <td>90</td>\n",
       "      <td>1295</td>\n",
       "      <td>141</td>\n",
       "      <td>0</td>\n",
       "      <td>0</td>\n",
       "      <td>91</td>\n",
       "    </tr>\n",
       "  </tbody>\n",
       "</table>\n",
       "</div>"
      ],
      "text/plain": [
       "   Team  Inning  Overs  Runs  Wickets  Balls_Remained  Batting_Strike_Rate  \\\n",
       "0     0       1    2.5     0        2             101                 1388   \n",
       "1     0       1   17.5     1        5              10                 1088   \n",
       "2     1       1    7.7     1        3              70                 1432   \n",
       "3     1       2   18.2     1        8               8                 1295   \n",
       "4     1       2    4.6     0        4              90                 1295   \n",
       "\n",
       "   Bowling_Strike_Rate  Venue  Win_Loss  Target  \n",
       "0                  156      0         1     147  \n",
       "1                  134      0         0      31  \n",
       "2                  156      0         0     121  \n",
       "3                  141      0         0      24  \n",
       "4                  141      0         0      91  "
      ]
     },
     "execution_count": 22,
     "metadata": {},
     "output_type": "execute_result"
    }
   ],
   "source": [
    "Orginal_data=pd.read_csv('/home/muhammadshahzad/Downloads/Final_Data.csv')\n",
    "data.head()"
   ]
  },
  {
   "cell_type": "code",
   "execution_count": 23,
   "id": "104e77f1",
   "metadata": {},
   "outputs": [],
   "source": [
    "# Seprating the dependent and indenpendent variables\n",
    "x=data.drop(['Target'], axis=1)\n",
    "y=data.Target"
   ]
  },
  {
   "cell_type": "code",
   "execution_count": 24,
   "id": "2b8c5064",
   "metadata": {},
   "outputs": [],
   "source": [
    "# Creating training, testing and validation sets\n",
    "from sklearn.model_selection import train_test_split as tts\n",
    "train_X,test_x, train_Y,test_y=tts(x,y, test_size=0.10,random_state=101)\n",
    "train_x,val_x, train_y, val_y=tts(train_X,train_Y,test_size=0.10,random_state=101)"
   ]
  },
  {
   "cell_type": "code",
   "execution_count": 25,
   "id": "ddfdbcf3",
   "metadata": {},
   "outputs": [
    {
     "name": "stdout",
     "output_type": "stream",
     "text": [
      "Training error:  0.0\n",
      "Testing error:  7.574468085106383\n",
      "validation_error:  2.830530826877666\n"
     ]
    }
   ],
   "source": [
    "from sklearn.tree import DecisionTreeRegressor\n",
    "model_1=DecisionTreeRegressor()\n",
    "model_1.fit(train_x,train_y)\n",
    "M1_train=model_1.predict(train_x)\n",
    "M1_test=model_1.predict(test_x)\n",
    "M1_val=model_1.predict(val_x)\n",
    "training_error=mse(M1_train,train_y) # mse stands for Mean_Squared_Error\n",
    "training_error=np.sqrt(training_error)\n",
    "testing_error=mse(M1_test,test_y)\n",
    "testting_error=np.sqrt(testing_error)\n",
    "validation_erro=mse(M1_val,val_y)\n",
    "validation_erro=np.sqrt(validation_erro)\n",
    "print('Training error: ',training_error)\n",
    "print('Testing error: ',testing_error)\n",
    "print('validation_error: ',validation_erro)"
   ]
  },
  {
   "cell_type": "code",
   "execution_count": 47,
   "id": "903691e8",
   "metadata": {},
   "outputs": [
    {
     "name": "stdout",
     "output_type": "stream",
     "text": [
      "Training error:  1.0589886466069331\n",
      "Testin_error:  2.6353569744872742\n",
      "Valdation_error:  3.018317096535435\n"
     ]
    }
   ],
   "source": [
    "from sklearn.ensemble import BaggingRegressor as bg \n",
    "model_2= bg()\n",
    "model_2.fit(train_x,train_y)\n",
    "train_pred=model_2.predict(train_x)\n",
    "test_pred=model_2.predict(test_x)\n",
    "val_pred=model_2.predict(val_x)\n",
    "error_train=mse(train_pred,train_y)\n",
    "error_train=np.sqrt(error_train)\n",
    "error_test=mse(test_pred,test_y)\n",
    "error_test=np.sqrt(error_test)\n",
    "error_val=mse(val_pred,val_y)\n",
    "error_val=np.sqrt(error_val)\n",
    "print('Training error: ',error_train)\n",
    "print('Testin_error: ',error_test)\n",
    "print('Valdation_error: ',error_val)"
   ]
  },
  {
   "cell_type": "code",
   "execution_count": 26,
   "id": "f57780d8",
   "metadata": {},
   "outputs": [
    {
     "name": "stdout",
     "output_type": "stream",
     "text": [
      "training_error 0.5289422516556294\n",
      "test_error 2.507032661525862\n",
      "validation_error 2.5852700881284014\n"
     ]
    }
   ],
   "source": [
    "from sklearn.ensemble import AdaBoostRegressor\n",
    "from sklearn.ensemble import RandomForestRegressor\n",
    "adaboost=AdaBoostRegressor(random_state=96,base_estimator=RandomForestRegressor(random_state=101),n_estimators=100,learning_rate=0.01)\n",
    "adaboost.fit(train_x,train_y)\n",
    "train_pred=adaboost.predict(train_x)\n",
    "test_pred=adaboost.predict(test_x)\n",
    "val_pred=adaboost.predict(val_x)\n",
    "error_train=mse(train_pred,train_y)\n",
    "error_trian=np.sqrt(error_train)\n",
    "error_test=mse(test_pred,test_y)\n",
    "error_test=np.sqrt(error_test)\n",
    "error_val=mse(val_pred,val_y)\n",
    "error_val=np.sqrt(error_val)\n",
    "print('training_error',error_train)\n",
    "print('test_error',error_test)\n",
    "print('validation_error',error_val)"
   ]
  },
  {
   "cell_type": "code",
   "execution_count": 30,
   "id": "24027b7f",
   "metadata": {},
   "outputs": [
    {
     "data": {
      "text/html": [
       "<div>\n",
       "<style scoped>\n",
       "    .dataframe tbody tr th:only-of-type {\n",
       "        vertical-align: middle;\n",
       "    }\n",
       "\n",
       "    .dataframe tbody tr th {\n",
       "        vertical-align: top;\n",
       "    }\n",
       "\n",
       "    .dataframe thead th {\n",
       "        text-align: right;\n",
       "    }\n",
       "</style>\n",
       "<table border=\"1\" class=\"dataframe\">\n",
       "  <thead>\n",
       "    <tr style=\"text-align: right;\">\n",
       "      <th></th>\n",
       "      <th>Team</th>\n",
       "      <th>Inning</th>\n",
       "      <th>Overs</th>\n",
       "      <th>Runs</th>\n",
       "      <th>Wickets</th>\n",
       "      <th>Balls_Remained</th>\n",
       "      <th>Batting_Strike_Rate</th>\n",
       "      <th>Bowling_Strike_Rate</th>\n",
       "      <th>Venue</th>\n",
       "      <th>Win_Loss</th>\n",
       "    </tr>\n",
       "  </thead>\n",
       "  <tbody>\n",
       "    <tr>\n",
       "      <th>0</th>\n",
       "      <td>0</td>\n",
       "      <td>1</td>\n",
       "      <td>0.0</td>\n",
       "      <td>0</td>\n",
       "      <td>0</td>\n",
       "      <td>120</td>\n",
       "      <td>126</td>\n",
       "      <td>14</td>\n",
       "      <td>0</td>\n",
       "      <td>1</td>\n",
       "    </tr>\n",
       "    <tr>\n",
       "      <th>1</th>\n",
       "      <td>0</td>\n",
       "      <td>1</td>\n",
       "      <td>0.1</td>\n",
       "      <td>0</td>\n",
       "      <td>0</td>\n",
       "      <td>119</td>\n",
       "      <td>126</td>\n",
       "      <td>14</td>\n",
       "      <td>0</td>\n",
       "      <td>1</td>\n",
       "    </tr>\n",
       "    <tr>\n",
       "      <th>2</th>\n",
       "      <td>0</td>\n",
       "      <td>1</td>\n",
       "      <td>0.2</td>\n",
       "      <td>0</td>\n",
       "      <td>1</td>\n",
       "      <td>118</td>\n",
       "      <td>126</td>\n",
       "      <td>14</td>\n",
       "      <td>0</td>\n",
       "      <td>1</td>\n",
       "    </tr>\n",
       "    <tr>\n",
       "      <th>3</th>\n",
       "      <td>0</td>\n",
       "      <td>1</td>\n",
       "      <td>0.3</td>\n",
       "      <td>0</td>\n",
       "      <td>0</td>\n",
       "      <td>117</td>\n",
       "      <td>126</td>\n",
       "      <td>14</td>\n",
       "      <td>0</td>\n",
       "      <td>1</td>\n",
       "    </tr>\n",
       "    <tr>\n",
       "      <th>4</th>\n",
       "      <td>0</td>\n",
       "      <td>1</td>\n",
       "      <td>0.4</td>\n",
       "      <td>0</td>\n",
       "      <td>0</td>\n",
       "      <td>116</td>\n",
       "      <td>126</td>\n",
       "      <td>14</td>\n",
       "      <td>0</td>\n",
       "      <td>1</td>\n",
       "    </tr>\n",
       "  </tbody>\n",
       "</table>\n",
       "</div>"
      ],
      "text/plain": [
       "   Team  Inning  Overs  Runs  Wickets  Balls_Remained  Batting_Strike_Rate  \\\n",
       "0     0       1    0.0     0        0             120                  126   \n",
       "1     0       1    0.1     0        0             119                  126   \n",
       "2     0       1    0.2     0        1             118                  126   \n",
       "3     0       1    0.3     0        0             117                  126   \n",
       "4     0       1    0.4     0        0             116                  126   \n",
       "\n",
       "   Bowling_Strike_Rate  Venue  Win_Loss  \n",
       "0                   14      0         1  \n",
       "1                   14      0         1  \n",
       "2                   14      0         1  \n",
       "3                   14      0         1  \n",
       "4                   14      0         1  "
      ]
     },
     "execution_count": 30,
     "metadata": {},
     "output_type": "execute_result"
    }
   ],
   "source": [
    "# Let's try some real data\n",
    "test=pd.read_excel('/home/muhammadshahzad/Downloads/1157374_1.xlsx')\n",
    "test=test.drop(['Target'],axis=1)\n",
    "test.Team=test.Team.map({'Australia':1, 'Pakistan':0})\n",
    "test.Venue=test.Venue.map({'Home':1,'Away':0})\n",
    "test.Win_Loss=test.Win_Loss.map({'Win':1, 'Loss':0})\n",
    "test.Team.fillna(test.Team.mode()[0],inplace=True)\n",
    "test.Batting_Strike_Rate=test.Batting_Strike_Rate.astype(int)\n",
    "test.Bowling_Strike_Rate=test.Bowling_Strike_Rate.astype(int)\n",
    "test.head()"
   ]
  },
  {
   "cell_type": "code",
   "execution_count": 64,
   "id": "b7d040dc",
   "metadata": {},
   "outputs": [
    {
     "name": "stdout",
     "output_type": "stream",
     "text": [
      "Max value of prediction:  141.45 \n",
      "Mean value of prediction:  89.47184 \n",
      "Min value of Prediction:  31.66\n"
     ]
    }
   ],
   "source": [
    "adaboost_pred=adaboost.predict(test)\n",
    "print('Max value of prediction: ',adaboost_pred.max(),'\\nMean value of prediction: ',adaboost_pred.mean(),'\\nMin value of Prediction: ',adaboost_pred.min())"
   ]
  },
  {
   "cell_type": "code",
   "execution_count": 50,
   "id": "b904ac70",
   "metadata": {},
   "outputs": [
    {
     "name": "stdout",
     "output_type": "stream",
     "text": [
      "Max value of prediction:  141.9 \n",
      "Mean value of prediction:  89.1176 \n",
      "Min value of Prediction:  25.4\n"
     ]
    }
   ],
   "source": [
    "bagging_pred=model_2.predict(test)\n",
    "print('Max value of prediction: ',xgboost_pred.max(),'\\nMean value of prediction: ',xgboost_pred.mean(),'\\nMin value of Prediction: ',xgboost_pred.min())"
   ]
  },
  {
   "cell_type": "code",
   "execution_count": 51,
   "id": "1c0d11d9",
   "metadata": {},
   "outputs": [
    {
     "name": "stdout",
     "output_type": "stream",
     "text": [
      "Max value of prediction:  136.0 \n",
      "Mean value of prediction:  88.544 \n",
      "Min value of Prediction:  15.0\n"
     ]
    }
   ],
   "source": [
    "DTree_pred=model_1.predict(test)\n",
    "print('Max value of prediction: ',DTree_pred.max(),'\\nMean value of prediction: ',DTree_pred.mean(),'\\nMin value of Prediction: ',DTree_pred.min())"
   ]
  },
  {
   "cell_type": "code",
   "execution_count": 53,
   "id": "011820d7",
   "metadata": {},
   "outputs": [
    {
     "name": "stdout",
     "output_type": "stream",
     "text": [
      "error of Decison Tree Regressor:  20.42752923427804\n",
      "Error of AdaBoost Regressor:  16.6484363259366\n",
      "Error of BaggingRegressor:  249.38888888888874\n"
     ]
    }
   ],
   "source": [
    "#Error of Decision Tree Regressor\n",
    "error=(DTree_pred.max()-162)**2/162*100\n",
    "error=np.sqrt(error)\n",
    "print('error of Decison Tree Regressor: ',error)\n",
    "# Error of AdaBoost Regressor\n",
    "error_1=(adaboost_pred.max()-162)**2/162*100\n",
    "error_1=np.sqrt(error_1)\n",
    "print('Error of AdaBoost Regressor: ',error_1)\n",
    "#Error of BaggingRegressor\n",
    "error_2=(bagging_pred.max()-162)**2/162*100\n",
    "erro_2=np.sqrt(error_2)\n",
    "print('Error of BaggingRegressor: ',error_2)"
   ]
  },
  {
   "cell_type": "code",
   "execution_count": 54,
   "id": "6e050913",
   "metadata": {},
   "outputs": [
    {
     "data": {
      "text/plain": [
       "[<matplotlib.lines.Line2D at 0x7f84d54793d0>]"
      ]
     },
     "execution_count": 54,
     "metadata": {},
     "output_type": "execute_result"
    },
    {
     "data": {
      "image/png": "[encoded data removed]",
      "text/plain": [
       "<Figure size 432x288 with 1 Axes>"
      ]
     },
     "metadata": {
      "needs_background": "light"
     },
     "output_type": "display_data"
    }
   ],
   "source": [
    "plt.plot(bagging_pred)"
   ]
  },
  {
   "cell_type": "code",
   "execution_count": 60,
   "id": "72c3bd74",
   "metadata": {},
   "outputs": [
    {
     "name": "stdout",
     "output_type": "stream",
     "text": [
      "Max value of prediction:  140.81 \n",
      "Mean value of prediction:  91.57686440677966 \n",
      "Min value of Prediction:  34.65\n"
     ]
    }
   ],
   "source": [
    "# Let's have a look to predict the score for second inning\n",
    "df=pd.read_excel('/home/muhammadshahzad/Downloads/1157374_2.xlsx')\n",
    "df.Team=df.Team.map({'Australia':1,'Pakistan':0})\n",
    "df.Venue=df.Venue.map({'Away':1,'Home':0})\n",
    "df.Win_Loss=df.Win_Loss.map({'Win':1,'Loss':0})\n",
    "df.Batting_Strike_Rate=df.Batting_Strike_Rate.astype(int)\n",
    "df.Bowling_Strike_Rate=df.Bowling_Strike_Rate.astype(int)\n",
    "df=df.drop(['Target'],axis=1)\n",
    "df.head()\n",
    "adabost_pred=adaboost.predict(df)\n",
    "print('Max value of prediction: ',adabost_pred.max(),'\\nMean value of prediction: ',adabost_pred.mean(),'\\nMin value of Prediction: ',adabost_pred.min())"
   ]
  },
  {
   "cell_type": "code",
   "execution_count": 63,
   "id": "35b00cd6",
   "metadata": {},
   "outputs": [
    {
     "name": "stdout",
     "output_type": "stream",
     "text": [
      "Max value of prediction:  143.6 \n",
      "Mean value of prediction:  91.9186440677966 \n",
      "Min value of Prediction:  28.1\n"
     ]
    }
   ],
   "source": [
    "bagg_pred=model_2.predict(df)\n",
    "print('Max value of prediction: ',bagg_pred.max(),'\\nMean value of prediction: ',bagg_pred.mean(),'\\nMin value of Prediction: ',bagg_pred.min())"
   ]
  },
  {
   "cell_type": "code",
   "execution_count": 58,
   "id": "9d85fd6e",
   "metadata": {},
   "outputs": [
    {
     "name": "stdout",
     "output_type": "stream",
     "text": [
      "Max value of prediction:  136.0 \n",
      "Mean value of prediction:  89.44067796610169 \n",
      "Min value of Prediction:  18.0\n"
     ]
    }
   ],
   "source": [
    "DTree_pred=model_1.predict(df)\n",
    "print('Max value of prediction: ',DTree_pred.max(),'\\nMean value of prediction: ',DTree_pred.mean(),'\\nMin value of Prediction: ',DTree_pred.min())"
   ]
  },
  {
   "cell_type": "code",
   "execution_count": 59,
   "id": "c11704fe",
   "metadata": {},
   "outputs": [
    {
     "name": "stdout",
     "output_type": "stream",
     "text": [
      "error of Decison Tree Regressor:  20.42752923427804\n",
      "Error of AdaBoost Regressor:  16.6484363259366\n",
      "Error of BaggingRegressor:  208.9876543209878\n"
     ]
    }
   ],
   "source": [
    "#Error of Decision Tree Regressor for Second Inning\n",
    "dt_error=(DTree_pred.max()-162)**2/162*100\n",
    "error_dt=np.sqrt(dt_error)\n",
    "print('error of Decison Tree Regressor: ',error_dt)\n",
    "# Error of AdaBoost Regressor\n",
    "error_ad=(adaboost_pred.max()-162)**2/162*100\n",
    "error_ad=np.sqrt(error_ad)\n",
    "print('Error of AdaBoost Regressor: ',error_ad)\n",
    "#Error of BaggingRegressor\n",
    "error_xg=(bagging_pred.max()-162)**2/162*100\n",
    "erro_xg=np.sqrt(error_xg)\n",
    "print('Error of BaggingRegressor: ',error_xg)"
   ]
  },
  {
   "cell_type": "code",
   "execution_count": 62,
   "id": "cde18258",
   "metadata": {},
   "outputs": [
    {
     "data": {
      "text/plain": [
       "[<matplotlib.lines.Line2D at 0x7f84d5319e80>]"
      ]
     },
     "execution_count": 62,
     "metadata": {},
     "output_type": "execute_result"
    },
    {
     "data": {
      "image/png": "[encoded data removed]",
      "text/plain": [
       "<Figure size 432x288 with 1 Axes>"
      ]
     },
     "metadata": {
      "needs_background": "light"
     },
     "output_type": "display_data"
    }
   ],
   "source": [
    "plt.plot(bagging_pred)"
   ]
  },
  {
   "cell_type": "code",
   "execution_count": null,
   "id": "9ec6e161",
   "metadata": {},
   "outputs": [],
   "source": []
  }
 ],
 "metadata": {
  "kernelspec": {
   "display_name": "Python 3 (ipykernel)",
   "language": "python",
   "name": "python3"
  },
  "language_info": {
   "codemirror_mode": {
    "name": "ipython",
    "version": 3
   },
   "file_extension": ".py",
   "mimetype": "text/x-python",
   "name": "python",
   "nbconvert_exporter": "python",
   "pygments_lexer": "ipython3",
   "version": "3.9.12"
  }
 },
 "nbformat": 4,
 "nbformat_minor": 5
}
